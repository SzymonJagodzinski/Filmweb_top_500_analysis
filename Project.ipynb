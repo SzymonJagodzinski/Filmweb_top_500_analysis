{
 "cells": [
  {
   "cell_type": "markdown",
   "id": "efa72a41-d55b-437e-b921-ebd87e8b5977",
   "metadata": {},
   "source": [
    "## 1. Web scraping - first page"
   ]
  },
  {
   "cell_type": "code",
   "execution_count": 1,
   "id": "d550c884-c173-4c14-a77e-c28d64acb93a",
   "metadata": {
    "scrolled": true,
    "tags": []
   },
   "outputs": [],
   "source": [
    "from bs4 import BeautifulSoup as bs\n",
    "import requests\n",
    "import itertools\n",
    "\n",
    "r_movie = requests.get(\"https://www.filmweb.pl/film/Skazani+na+Shawshank-1994-1048\")\n",
    "soup_movie = bs(r_movie.content)\n",
    "\n",
    "# print(soup_movie.prettify())"
   ]
  },
  {
   "cell_type": "code",
   "execution_count": 2,
   "id": "441f71d4-844f-49c5-b50f-b99cff1d2ba8",
   "metadata": {
    "tags": []
   },
   "outputs": [
    {
     "data": {
      "text/plain": [
       "{'polish_title': 'Skazani na Shawshank',\n",
       " 'original_title': 'The Shawshank Redemption',\n",
       " 'release_year': '1994',\n",
       " 'duration': '2 godz. 22 min.',\n",
       " 'reżyseria': 'Frank Darabont',\n",
       " 'scenariusz': 'Frank Darabont',\n",
       " 'gatunek': 'Dramat',\n",
       " 'produkcja': 'USA',\n",
       " 'świat': 'Stephen King',\n",
       " 'premiera': '10 września 1994 (Światowa premiera) 16 kwietnia 1995 (Polska premiera kinowa)',\n",
       " 'boxoffice': '$28 884 504 na świecie $28 767 189 w USA $117 315 poza USA',\n",
       " 'budżet': '$25 000 000',\n",
       " 'na podstawie': 'Stephen King (opowiadanie)',\n",
       " 'studio': 'Castle Rock Entertainment (przedstawia)',\n",
       " 'tytuł oryg.': 'The Shawshank Redemption',\n",
       " 'inne tytuły': 'Sueño de fuga Miedzynarodowe Rita Hayworth and the Shawshank Redemption (tytuł roboczy) USA Więcej...'}"
      ]
     },
     "execution_count": 2,
     "metadata": {},
     "output_type": "execute_result"
    }
   ],
   "source": [
    "movie_data = {}\n",
    "dictionary_keys_temp = []\n",
    "\n",
    "polish_title = soup_movie.find(\"h1\", {\"class\": \"filmCoverSection__title\"})\n",
    "original_title = soup_movie.find(\"div\", {\"class\": \"filmCoverSection__originalTitle\"})\n",
    "release_year = soup_movie.find(\"div\", {\"class\": \"filmCoverSection__year\"})\n",
    "duration = soup_movie.find(\"div\", {\"class\": \"filmCoverSection__duration\"})\n",
    "\n",
    "movie_data['polish_title'] = polish_title.get_text(\" \", strip=True)\n",
    "movie_data['original_title'] = original_title.get_text(\" \", strip=True)\n",
    "movie_data['release_year'] = release_year.get_text(\" \", strip=True)\n",
    "movie_data['duration'] = duration.get_text(\" \", strip=True)\n",
    "\n",
    "headers = soup_movie.find_all([\"div\", \"h3\"], {\"class\": \"filmInfo__header\"})\n",
    "\n",
    "for row in headers:\n",
    "    key = row.get_text(\" \")\n",
    "    dictionary_keys_temp.append(key)\n",
    "    \n",
    "info = soup_movie.find_all(\"div\", {\"class\": \"filmInfo__info\"})\n",
    "\n",
    "for (key, row) in zip(dictionary_keys_temp, info):\n",
    "    value = row.get_text(\" \", strip=True)\n",
    "    movie_data[key] = value\n",
    "    \n",
    "dictionary_keys_temp.clear()\n",
    "\n",
    "movie_data"
   ]
  },
  {
   "cell_type": "markdown",
   "id": "cd6ceceb-c384-45b4-a0e9-0aa8238858c6",
   "metadata": {},
   "source": [
    "## 2. Web scraping - TOP 500 movies"
   ]
  },
  {
   "cell_type": "code",
   "execution_count": 35,
   "id": "236899ee-9f8d-4e03-96b5-ecaee4f7d2e0",
   "metadata": {},
   "outputs": [],
   "source": [
    "from bs4 import BeautifulSoup as bs\n",
    "import requests\n",
    "import itertools\n",
    "\n",
    "movies_data_list = []\n",
    "\n",
    "def get_movie_data(href):\n",
    "    \n",
    "    r_movie = requests.get(href)\n",
    "    soup_movie = bs(r_movie.content)\n",
    "    \n",
    "    movie_data = {}\n",
    "    dictionary_keys_temp = []\n",
    "\n",
    "    polish_title = soup_movie.find(\"h1\", {\"class\": \"filmCoverSection__title\"})\n",
    "    release_year = soup_movie.find(\"div\", {\"class\": \"filmCoverSection__year\"})\n",
    "    duration = soup_movie.find(\"div\", {\"class\": \"filmCoverSection__duration\"})\n",
    "    \n",
    "    movie_data['polish_title'] = polish_title.get_text(\" \", strip=True)\n",
    "    movie_data['release_year'] = release_year.get_text(\" \", strip=True)\n",
    "    movie_data['duration'] = duration.get_text(\" \", strip=True)\n",
    "\n",
    "    headers = soup_movie.find_all([\"div\", \"h3\"], {\"class\": \"filmInfo__header\"})\n",
    "\n",
    "    for row in headers:\n",
    "        key = row.get_text(\" \")\n",
    "        dictionary_keys_temp.append(key)\n",
    "\n",
    "    info = soup_movie.find_all(\"div\", {\"class\": \"filmInfo__info\"})\n",
    "\n",
    "    for (key, row) in zip(dictionary_keys_temp, info):\n",
    "        value = row.get_text(\" \", strip=True)\n",
    "        movie_data[key] = value\n",
    "\n",
    "    dictionary_keys_temp.clear()\n",
    "    \n",
    "    movies_data_list.append(movie_data)"
   ]
  },
  {
   "cell_type": "code",
   "execution_count": 33,
   "id": "cfd53bb0-7639-4a62-9104-ca25b1b85037",
   "metadata": {
    "collapsed": true,
    "jupyter": {
     "outputs_hidden": true
    },
    "tags": []
   },
   "outputs": [
    {
     "data": {
      "text/plain": [
       "[{'polish_title': 'Forrest Gump',\n",
       "  'release_year': '1994',\n",
       "  'duration': '2 godz. 22 min.',\n",
       "  'reżyseria': 'Robert Zemeckis',\n",
       "  'scenariusz': 'Eric Roth',\n",
       "  'gatunek': 'Dramat , Komedia',\n",
       "  'produkcja': 'USA',\n",
       "  'premiera': '23 czerwca 1994 (Światowa premiera) 4 listopada 1994 (Polska premiera kinowa)',\n",
       "  'boxoffice': '$678 226 465 na świecie $330 455 270 w USA $347 771 195 poza USA',\n",
       "  'budżet': '$55 000 000',\n",
       "  'na podstawie': 'Winston Groom (powieść)',\n",
       "  'studio': 'Paramount Pictures (przedstawia)',\n",
       "  'tytuł oryg.': 'Forrest Gump',\n",
       "  'inne tytuły': 'Forrest Gump: The IMAX Experience (wersja IMAX) USA Więcej...'}]"
      ]
     },
     "execution_count": 33,
     "metadata": {},
     "output_type": "execute_result"
    }
   ],
   "source": [
    "# test\n",
    "get_movie_data('https://www.filmweb.pl/film/Forrest+Gump-1994-998')\n",
    "movies_data_list"
   ]
  },
  {
   "cell_type": "code",
   "execution_count": 36,
   "id": "e7e76732-6457-4b8d-8782-4da410abf041",
   "metadata": {},
   "outputs": [],
   "source": [
    "movies_data_list = []"
   ]
  },
  {
   "cell_type": "code",
   "execution_count": 37,
   "id": "e842644e-6934-4c37-954c-25fea8356f67",
   "metadata": {
    "collapsed": true,
    "jupyter": {
     "outputs_hidden": true
    },
    "scrolled": true,
    "tags": []
   },
   "outputs": [
    {
     "name": "stdout",
     "output_type": "stream",
     "text": [
      "0\n",
      "20\n",
      "40\n",
      "60\n",
      "80\n",
      "100\n",
      "120\n",
      "140\n",
      "160\n",
      "180\n",
      "200\n",
      "220\n",
      "240\n",
      "260\n",
      "280\n",
      "300\n",
      "320\n",
      "340\n",
      "360\n",
      "380\n",
      "400\n",
      "420\n",
      "440\n",
      "460\n",
      "480\n",
      "end\n"
     ]
    }
   ],
   "source": [
    "import time\n",
    "from selenium import webdriver\n",
    "from selenium.webdriver.common.keys import Keys\n",
    "from selenium.webdriver.common.by import By\n",
    "\n",
    "# selenium is used because bs4 con not handle scroll\n",
    "\n",
    "browser = webdriver.Firefox()\n",
    "\n",
    "browser.get(\"https://www.filmweb.pl/ranking/film\")\n",
    "time.sleep(2)\n",
    "browser.find_element(\"id\", \"didomi-notice-agree-button\").click()\n",
    "time.sleep(3)\n",
    "browser.find_element(By.CLASS_NAME, \"ws__skipButton\").click()\n",
    "\n",
    "for scrolls in range(65): \n",
    "    browser.execute_script(\"window.scrollBy(0, 1200)\")\n",
    "    time.sleep(0.4)\n",
    "\n",
    "movies = browser.find_elements(By.CLASS_NAME, \"rankingType__title\")\n",
    "\n",
    "for index, movie in enumerate(movies):\n",
    "    try:\n",
    "        href = movie.find_element(By.CSS_SELECTOR, \"a\").get_attribute(\"href\")\n",
    "        # print(f\"{movie.text} - {href}\")\n",
    "        get_movie_data(href)\n",
    "    except Exception as e:\n",
    "        print(f'{movie.text} || {e}')\n",
    "        \n",
    "    if index % 20 == 0: print(index)\n",
    "    if index == len(movies)-1: print('end')\n"
   ]
  },
  {
   "cell_type": "code",
   "execution_count": 44,
   "id": "dbf6f8fa-9a14-43b5-a64c-dc7434eb6f2b",
   "metadata": {
    "collapsed": true,
    "jupyter": {
     "outputs_hidden": true
    },
    "scrolled": true,
    "tags": []
   },
   "outputs": [
    {
     "name": "stdout",
     "output_type": "stream",
     "text": [
      "500\n"
     ]
    },
    {
     "data": {
      "text/plain": [
       "{'polish_title': 'Akira',\n",
       " 'release_year': '1988',\n",
       " 'duration': '2 godz. 4 min.',\n",
       " 'reżyseria': 'Katsuhiro Ôtomo',\n",
       " 'scenariusz': 'Katsuhiro Ôtomo , Izô Hashimoto',\n",
       " 'gatunek': 'Sci-Fi , Anime',\n",
       " 'produkcja': 'Japonia',\n",
       " 'premiera': '16 lipca 1988 (Światowa premiera) czerwiec 1996 (Polska premiera kinowa)',\n",
       " 'boxoffice': '$1 863 460 na świecie $553 171 w USA $1 310 289 poza USA',\n",
       " 'na podstawie': 'Katsuhiro Ôtomo (manga)',\n",
       " 'studio': 'TMS Entertainment (przedstawia) / Akira Committee Company Ltd. / Bandai / Więcej...',\n",
       " 'tytuł oryg.': 'Akira',\n",
       " 'inne tytuły': 'Akira: The Special Edition (tytuł wznowienia) USA Akira Wielka Brytania Akira Australia Akira Kanada Akira Irlandia Więcej...'}"
      ]
     },
     "execution_count": 44,
     "metadata": {},
     "output_type": "execute_result"
    }
   ],
   "source": [
    "print(len(movies_data_list))\n",
    "movies_data_list[499]"
   ]
  },
  {
   "cell_type": "markdown",
   "id": "ba381e5c-92dc-4963-8f74-26f1a50cb597",
   "metadata": {},
   "source": [
    "## 3. Data cleaning"
   ]
  },
  {
   "cell_type": "code",
   "execution_count": 2,
   "id": "daf16a9f-8b0e-4cd0-aecf-ffae931ad704",
   "metadata": {},
   "outputs": [],
   "source": [
    "import json\n",
    "\n",
    "def save_data(file_name, data):\n",
    "    with open(file_name, \"w\", encoding=\"utf-8\") as file:\n",
    "        json.dump(data, file, ensure_ascii=False, indent=4)\n",
    "    \n",
    "def load_data(file_name):\n",
    "    with open(file_name, encoding=\"utf-8\") as file:\n",
    "        return json.load(file)"
   ]
  },
  {
   "cell_type": "code",
   "execution_count": 46,
   "id": "716b7f8b-101a-455b-ae2c-d7ed23d63841",
   "metadata": {},
   "outputs": [],
   "source": [
    "save_data(\"movies_data.json\", movies_data_list)"
   ]
  },
  {
   "cell_type": "code",
   "execution_count": 92,
   "id": "57083f30-b722-4011-9574-c9365a9a8cdd",
   "metadata": {},
   "outputs": [],
   "source": [
    "movies_data_list = load_data(\"movies_data.json\")"
   ]
  },
  {
   "cell_type": "code",
   "execution_count": 93,
   "id": "75ac3400-d781-4923-80ac-57d21ef3d016",
   "metadata": {
    "tags": []
   },
   "outputs": [
    {
     "data": {
      "text/plain": [
       "{'polish_title': 'Dawno temu w Ameryce',\n",
       " 'release_year': '1984',\n",
       " 'duration': '3 godz. 49 min.',\n",
       " 'reżyseria': 'Sergio Leone',\n",
       " 'scenariusz': 'Leonardo Benvenuti , Franco Arcalli',\n",
       " 'gatunek': 'Dramat , Gangsterski',\n",
       " 'produkcja': 'USA , Włochy',\n",
       " 'premiera': '17 lutego 1984 (Światowa premiera) 31 grudnia 1984 (Polska premiera kinowa)',\n",
       " 'boxoffice': '$5 473 337 na świecie $5 321 508 w USA $151 829 poza USA',\n",
       " 'budżet': '$30 000 000',\n",
       " 'na podstawie': 'Harry Grey (powieść)',\n",
       " 'studio': 'Embassy International Pictures / Ladd Company, The / PSO International / Więcej...',\n",
       " 'tytuł oryg.': 'Once Upon a Time in America',\n",
       " 'inne tytuły': 'Więcej...'}"
      ]
     },
     "execution_count": 93,
     "metadata": {},
     "output_type": "execute_result"
    }
   ],
   "source": [
    "movies_data_list[44]"
   ]
  },
  {
   "cell_type": "code",
   "execution_count": 94,
   "id": "25173e48-d45d-4414-8a3d-9b3ce21007ca",
   "metadata": {
    "collapsed": true,
    "jupyter": {
     "outputs_hidden": true
    },
    "tags": []
   },
   "outputs": [
    {
     "data": {
      "text/plain": [
       "{'polish_title': 'Skazani na Shawshank',\n",
       " 'release_year': 'Skazani na Shawshank',\n",
       " 'duration': 'Skazani na Shawshank',\n",
       " 'reżyseria': 'Skazani na Shawshank',\n",
       " 'scenariusz': 'Skazani na Shawshank',\n",
       " 'gatunek': 'Skazani na Shawshank',\n",
       " 'produkcja': 'Skazani na Shawshank',\n",
       " 'świat': 'Skazani na Shawshank',\n",
       " 'premiera': 'Skazani na Shawshank',\n",
       " 'boxoffice': 'Skazani na Shawshank',\n",
       " 'budżet': 'Skazani na Shawshank',\n",
       " 'na podstawie': 'Skazani na Shawshank',\n",
       " 'studio': 'Skazani na Shawshank',\n",
       " 'tytuł oryg.': 'Skazani na Shawshank',\n",
       " 'inne tytuły': 'Skazani na Shawshank',\n",
       " 'dystrybucja': 'Nietykalni',\n",
       " 'nagrody': 'Podziemny krąg'}"
      ]
     },
     "execution_count": 94,
     "metadata": {},
     "output_type": "execute_result"
    }
   ],
   "source": [
    "all_keys = {}\n",
    "for movie in movies_data_list:\n",
    "    for key, value in movie.items():\n",
    "        if key not in all_keys:\n",
    "            all_keys[key] = movie['polish_title']\n",
    "        \n",
    "all_keys"
   ]
  },
  {
   "cell_type": "code",
   "execution_count": 95,
   "id": "8d03ec53-4039-44a9-8e52-6f9986843eb4",
   "metadata": {},
   "outputs": [],
   "source": [
    "import re\n",
    "\n",
    "def duration_to_int(duration):\n",
    "    try:\n",
    "        try:\n",
    "            result = re.search('(.*) godz\\. (.*) min', duration)\n",
    "            time = int(result.group(1)) * 60 + int(result.group(2)) \n",
    "        except AttributeError:\n",
    "            try:\n",
    "                result = re.search('(.*) godz', duration)\n",
    "                time = int(result.group(1)) * 60\n",
    "            except AttributeError:\n",
    "                result = re.search('(.*) min', duration)\n",
    "                time = int(result.group(1))\n",
    "    except Exception:\n",
    "        print(f'{duration} || {Exception}')\n",
    "    return time\n",
    "\n",
    "all_genres_pl = []\n",
    "all_genres_dic = {}\n",
    "all_countries_pl = []\n",
    "all_countries_dic = {}\n",
    "    \n",
    "for movie in movies_data_list:\n",
    "    \n",
    "    # polish_title\n",
    "    movie['polish title'] = movie.pop('polish_title', None)\n",
    "    \n",
    "    # release_year\n",
    "    movie['release year'] = movie.pop('release_year', None)\n",
    "    if movie.get('release year') is not None:\n",
    "        movie['release year'] = int(movie.get('release year'))\n",
    "    \n",
    "    # duration\n",
    "    if \"duration\" in movie:\n",
    "        movie['duration (mi)'] = duration_to_int(movie.get('duration'))\n",
    "        movie.pop('duration', None)\n",
    "    else:\n",
    "        movie['duration (mi)'] = None\n",
    "        \n",
    "    # director\n",
    "    if \"reżyseria\" in movie:\n",
    "        movie[\"reżyseria\"] = re.split(r' ?, ?|\\s+,\\s+', movie.get('reżyseria')) \n",
    "    movie['director'] = movie.pop('reżyseria', None)\n",
    "    \n",
    "    # screenplay\n",
    "    if \"scenariusz\" in movie:\n",
    "        movie[\"scenariusz\"] = re.split(r' ?, ?|\\s+,\\s+', movie.get('scenariusz')) \n",
    "    movie['screenplay'] = movie.pop('scenariusz', None)\n",
    "    \n",
    "    # genre\n",
    "    if \"gatunek\" in movie:\n",
    "        movie[\"gatunek\"] = re.split(r' ?, ?|\\s+,\\s+', movie.get('gatunek'))\n",
    "        for genre in movie.get('gatunek'):\n",
    "            if genre not in all_genres_pl:\n",
    "                all_genres_pl.append(genre)\n",
    "    movie['genre'] = movie.pop('gatunek', None)\n",
    "    \n",
    "    # country\n",
    "    if \"produkcja\" in movie:\n",
    "        movie[\"produkcja\"] = re.split(r' ?, ?|\\s+,\\s+', movie.get('produkcja'))\n",
    "        for country in movie.get('produkcja'):\n",
    "            if country not in all_countries_pl:\n",
    "                all_countries_pl.append(country)\n",
    "    movie['country'] = movie.pop('produkcja', None)\n",
    "    \n",
    "    # universe\n",
    "    if \"świat\" in movie:\n",
    "        movie[\"świat\"] = re.split(r' ?/ ?|\\s+/\\s+', movie.get('świat')) \n",
    "    movie['universe'] = movie.pop('świat', None)\n",
    "    \n",
    "    # premiere\n",
    "    movie.pop('premiera', None)\n",
    "    \n",
    "    # boxoffice\n",
    "    if \"boxoffice\" in movie:\n",
    "        no_spaces_string = re.sub(r'\\s+', '', movie.get('boxoffice'))\n",
    "        number = re.search(r'(\\d+)', no_spaces_string)\n",
    "        movie['boxoffice'] = int(number.group(1))\n",
    "    movie['boxoffice (USD)'] = movie.pop('boxoffice', None)\n",
    "    \n",
    "    # budget\n",
    "    if \"budżet\" in movie:\n",
    "        no_spaces_string = re.sub(r'\\s+', '', movie.get('budżet'))\n",
    "        number = re.search(r'(\\d+)', no_spaces_string)\n",
    "        movie['budżet'] = int(number.group(1))\n",
    "    movie['budget (USD)'] = movie.pop('budżet', None)\n",
    "    \n",
    "    # based on\n",
    "    movie.pop('na podstawie', None)\n",
    "    \n",
    "    # studio\n",
    "    if \"studio\" in movie:\n",
    "        string = re.sub(r'\\s+\\([^)]+\\)', '', movie.get('studio'))\n",
    "        string = re.sub(r'\\s+/\\s+więcej[.]+', '', string, flags=re.IGNORECASE)\n",
    "        movie['studio'] = re.split(r'\\s+/\\s+', string)\n",
    "    else:\n",
    "        movie['studio'] = None\n",
    "    \n",
    "    # original title\n",
    "    movie['original title'] = movie.pop('tytuł oryg.', None)\n",
    "    \n",
    "    # other titles\n",
    "    movie.pop('inne tytuły', None)\n",
    "    \n",
    "    # distribution\n",
    "    movie['distribution'] = movie.pop('dystrybucja', None)\n",
    "    \n",
    "    # awards\n",
    "    movie.pop('nagrody', None)"
   ]
  },
  {
   "cell_type": "code",
   "execution_count": 96,
   "id": "cd1c23b9-87ad-4096-af18-9f24c148c1d8",
   "metadata": {
    "scrolled": true,
    "tags": []
   },
   "outputs": [],
   "source": [
    "import translators.server as tss\n",
    "\n",
    "# genre and country translation\n",
    "for genre in all_genres_pl:\n",
    "    all_genres_dic[genre] = tss.google(genre, 'pl', 'en')\n",
    "    \n",
    "for country in all_countries_pl:\n",
    "    all_countries_dic[country] = tss.google(country, 'pl', 'en')"
   ]
  },
  {
   "cell_type": "code",
   "execution_count": 97,
   "id": "a9a37ac8-d158-465f-8199-16ba4b460321",
   "metadata": {
    "collapsed": true,
    "jupyter": {
     "outputs_hidden": true
    },
    "scrolled": true,
    "tags": []
   },
   "outputs": [
    {
     "data": {
      "text/plain": [
       "{'Dramat': 'Drama',\n",
       " 'Biograficzny': 'Biographical',\n",
       " 'Komedia': 'Comedy',\n",
       " 'Gangsterski': 'Gangster',\n",
       " 'Dramat sądowy': 'Judicial drama',\n",
       " 'Psychologiczny': 'Psychological',\n",
       " 'Fantasy': 'Fantasy',\n",
       " 'Przygodowy': 'Adventure',\n",
       " 'Wojenny': 'War',\n",
       " 'Kryminał': 'Jail',\n",
       " 'Thriller': 'Thriller',\n",
       " 'Surrealistyczny': 'Surreal',\n",
       " 'Sci-Fi': 'Sci-fi',\n",
       " 'Western': 'Western',\n",
       " 'Animacja': 'Animation',\n",
       " 'Familijny': 'Family',\n",
       " 'Dramat historyczny': 'Historical drama',\n",
       " 'Muzyczny': 'Musical',\n",
       " 'Dramat obyczajowy': 'Drama',\n",
       " 'Akcja': 'Share',\n",
       " 'Sensacyjny': 'Sensational',\n",
       " 'Melodramat': 'Melodrama',\n",
       " 'Anime': 'Anime',\n",
       " 'Komedia kryminalna': 'Criminal comedy',\n",
       " 'Kostiumowy': 'Costume',\n",
       " 'Obyczajowy': 'Moral',\n",
       " 'Sportowy': 'Sporty',\n",
       " 'Świąteczny': 'Festive',\n",
       " 'Horror': 'Horror',\n",
       " 'Komedia obycz.': 'Custom comedy.',\n",
       " 'Musical': 'Musical',\n",
       " 'Dokumentalny': 'Documentary',\n",
       " 'Animacja dla dorosłych': 'Animation for adults',\n",
       " 'Krótkometrażowy': 'Short',\n",
       " 'Polityczny': 'Political',\n",
       " 'Przyrodniczy': 'Natural',\n",
       " 'Sztuki walki': 'Martial arts',\n",
       " 'Dreszczowiec': 'Thriller',\n",
       " 'Film-Noir': 'Movie-noir',\n",
       " 'Satyra': 'Satire',\n",
       " 'Romans': 'Romance',\n",
       " 'Komedia rom.': 'Comedy rom.',\n",
       " 'Groteska filmowa': 'Film grotesque',\n",
       " 'Czarna komedia': 'Black comedy',\n",
       " 'Poetycki': 'Poetic',\n",
       " 'Baśń': 'Fairy tale',\n",
       " 'Niemy': 'Dumb',\n",
       " 'Dla młodzieży': 'For young people',\n",
       " 'Biblijny': 'Biblical'}"
      ]
     },
     "execution_count": 97,
     "metadata": {},
     "output_type": "execute_result"
    }
   ],
   "source": [
    "all_genres_dic"
   ]
  },
  {
   "cell_type": "code",
   "execution_count": 98,
   "id": "804fb215-bece-42c9-8197-2ed5f909f843",
   "metadata": {
    "collapsed": true,
    "jupyter": {
     "outputs_hidden": true
    },
    "scrolled": true,
    "tags": []
   },
   "outputs": [
    {
     "data": {
      "text/plain": [
       "{'USA': 'USA',\n",
       " 'Francja': 'France',\n",
       " 'Nowa Zelandia': 'New Zealand',\n",
       " 'Włochy': 'Italy',\n",
       " 'Niemcy': 'Germany',\n",
       " 'Kanada': 'Canada',\n",
       " 'Polska': 'Poland',\n",
       " 'Wielka Brytania': 'Great Britain',\n",
       " 'Malta': 'Malta',\n",
       " 'Maroko': 'Morocco',\n",
       " 'Australia': 'Australia',\n",
       " 'Hiszpania': 'Spain',\n",
       " 'RFN': 'West Germany',\n",
       " 'Zjednoczone Emiraty Arabskie': 'United Arab Emirates',\n",
       " 'Indie': 'India',\n",
       " 'Korea Południowa': 'South Korea',\n",
       " 'Hongkong': 'Hong Kong',\n",
       " 'Japonia': 'Japan',\n",
       " 'Brazylia': 'Brazil',\n",
       " 'Szwajcaria': 'Switzerland',\n",
       " 'Irlandia': 'Ireland',\n",
       " 'Meksyk': 'Mexico',\n",
       " 'Estonia': 'Estonia',\n",
       " 'Gruzja': 'Georgia',\n",
       " 'Czechy': 'The czech republic',\n",
       " 'Dania': 'Denmark',\n",
       " 'Szwecja': 'Sweden',\n",
       " 'Indonezja': 'Indonesia',\n",
       " 'Singapur': 'Singapore',\n",
       " 'Tajlandia': 'Thailand',\n",
       " 'Kenia': 'Kenya',\n",
       " 'Jordania': 'Jordan',\n",
       " 'Arabia Saudyjska': 'Saudi Arabia',\n",
       " 'RPA': 'South Africa',\n",
       " 'Ghana': 'Ghana',\n",
       " 'Egipt': 'Egypt',\n",
       " 'Chiny': 'China',\n",
       " 'Liban': 'Lebanon',\n",
       " 'Belgia': 'Belgium',\n",
       " 'Luksemburg': 'Luxembourg',\n",
       " 'Norwegia': 'Norway',\n",
       " 'Ukraina': 'Ukraine',\n",
       " 'Rosja': 'Russia',\n",
       " 'Finlandia': 'Finland',\n",
       " 'Turcja': 'Turkey',\n",
       " 'Holandia': 'the Netherlands',\n",
       " 'Islandia': 'Iceland',\n",
       " 'Argentyna': 'Argentina',\n",
       " 'Węgry': 'Hungary',\n",
       " 'Austria': 'Austria',\n",
       " 'Grecja': 'Greece',\n",
       " 'Fed. Rep. Jugosławii': 'Fed. Rep. Yugoslavia',\n",
       " 'Bułgaria': 'Bulgaria',\n",
       " 'ZSRR': 'USSR',\n",
       " 'Bahamy': 'Bahamas',\n",
       " 'Portugalia': 'Portugal'}"
      ]
     },
     "execution_count": 98,
     "metadata": {},
     "output_type": "execute_result"
    }
   ],
   "source": [
    "all_countries_dic"
   ]
  },
  {
   "cell_type": "code",
   "execution_count": 99,
   "id": "74fc2bf9-3795-41ad-9ee7-1c7aa7560151",
   "metadata": {
    "collapsed": true,
    "jupyter": {
     "outputs_hidden": true
    },
    "scrolled": true,
    "tags": []
   },
   "outputs": [
    {
     "data": {
      "text/plain": [
       "{'Dramat': 'Drama',\n",
       " 'Biograficzny': 'Biography',\n",
       " 'Komedia': 'Comedy',\n",
       " 'Gangsterski': 'Crime',\n",
       " 'Dramat sądowy': 'Drama',\n",
       " 'Psychologiczny': 'Psychological',\n",
       " 'Fantasy': 'Fantasy',\n",
       " 'Przygodowy': 'Adventure',\n",
       " 'Wojenny': 'War',\n",
       " 'Kryminał': 'Crime',\n",
       " 'Thriller': 'Thriller',\n",
       " 'Surrealistyczny': 'Surreal',\n",
       " 'Sci-Fi': 'Sci-fi',\n",
       " 'Western': 'Western',\n",
       " 'Animacja': 'Animation',\n",
       " 'Familijny': 'Family',\n",
       " 'Dramat historyczny': 'Drama',\n",
       " 'Muzyczny': 'Musical',\n",
       " 'Dramat obyczajowy': 'Drama',\n",
       " 'Akcja': 'Action',\n",
       " 'Sensacyjny': 'Sensational',\n",
       " 'Melodramat': 'Drama',\n",
       " 'Anime': 'Anime',\n",
       " 'Komedia kryminalna': ['Crime', 'Comedy'],\n",
       " 'Kostiumowy': 'Costume',\n",
       " 'Obyczajowy': 'Drama',\n",
       " 'Sportowy': 'Sporty',\n",
       " 'Świąteczny': 'Festive',\n",
       " 'Horror': 'Horror',\n",
       " 'Komedia obycz.': 'Comedy',\n",
       " 'Musical': 'Musical',\n",
       " 'Dokumentalny': 'Documentary',\n",
       " 'Animacja dla dorosłych': 'Animation',\n",
       " 'Krótkometrażowy': 'Short',\n",
       " 'Polityczny': 'Political',\n",
       " 'Przyrodniczy': 'Nature',\n",
       " 'Sztuki walki': 'Martial arts',\n",
       " 'Dreszczowiec': 'Thriller',\n",
       " 'Film-Noir': 'Film-Noir',\n",
       " 'Satyra': 'Satire',\n",
       " 'Romans': 'Romance',\n",
       " 'Komedia rom.': ['Comedy', 'Romance'],\n",
       " 'Groteska filmowa': 'Film grotesque',\n",
       " 'Czarna komedia': 'Comedy',\n",
       " 'Poetycki': 'Poetic',\n",
       " 'Baśń': 'Fairy tale',\n",
       " 'Niemy': 'Silent',\n",
       " 'Dla młodzieży': 'Teen',\n",
       " 'Biblijny': 'Bible'}"
      ]
     },
     "execution_count": 99,
     "metadata": {},
     "output_type": "execute_result"
    }
   ],
   "source": [
    "all_genres_dic['Biograficzny'] = 'Biography'\n",
    "all_genres_dic['Gangsterski'] = 'Crime'\n",
    "all_genres_dic['Dramat sądowy'] = 'Drama'\n",
    "all_genres_dic['Kryminał'] = 'Crime'\n",
    "all_genres_dic['Dramat historyczny'] = 'Drama'\n",
    "all_genres_dic['Akcja'] = 'Action'\n",
    "all_genres_dic['Melodramat'] = 'Drama'\n",
    "all_genres_dic['Komedia kryminalna'] = ['Crime', 'Comedy']\n",
    "all_genres_dic['Obyczajowy'] = 'Drama'\n",
    "all_genres_dic['Komedia obycz.'] = 'Comedy'\n",
    "all_genres_dic['Animacja dla dorosłych'] = 'Animation'\n",
    "all_genres_dic['Przyrodniczy'] = 'Nature'\n",
    "all_genres_dic['Film-Noir'] = 'Film-Noir'\n",
    "all_genres_dic['Komedia rom.'] = ['Comedy','Romance']\n",
    "all_genres_dic['Czarna komedia'] = 'Comedy'\n",
    "all_genres_dic['Niemy'] = 'Silent'\n",
    "all_genres_dic['Dla młodzieży'] = 'Teen'\n",
    "all_genres_dic['Biblijny'] = 'Bible'\n",
    "\n",
    "all_countries_dic['Fed. Rep. Jugosławii'] = 'Yugoslavia'\n",
    "all_countries_dic['RFN'] = 'Germany'\n",
    "\n",
    "all_genres_dic"
   ]
  },
  {
   "cell_type": "code",
   "execution_count": 39,
   "id": "e9fcc10d-e7a4-4251-98ce-53df1b73440f",
   "metadata": {},
   "outputs": [],
   "source": [
    "save_data(\"genres_dictionary.json\", all_genres_dic)\n",
    "save_data(\"countries_dictionary.json\", all_countries_dic)"
   ]
  },
  {
   "cell_type": "code",
   "execution_count": 100,
   "id": "555a4bba-2fb2-40af-aa40-81ac2e8a23cf",
   "metadata": {},
   "outputs": [],
   "source": [
    "all_genres_dic = load_data(\"genres_dictionary.json\")\n",
    "all_countries_dic = load_data(\"countries_dictionary.json\")"
   ]
  },
  {
   "cell_type": "code",
   "execution_count": 101,
   "id": "d309ef56-fb4e-492b-80ba-067d22552840",
   "metadata": {
    "collapsed": true,
    "jupyter": {
     "outputs_hidden": true
    },
    "tags": []
   },
   "outputs": [
    {
     "data": {
      "text/plain": [
       "{'studio': ['Embassy International Pictures',\n",
       "  'Ladd Company, The',\n",
       "  'PSO International'],\n",
       " 'polish title': 'Dawno temu w Ameryce',\n",
       " 'release year': 1984,\n",
       " 'duration (mi)': 229,\n",
       " 'director': ['Sergio Leone'],\n",
       " 'screenplay': ['Leonardo Benvenuti', 'Franco Arcalli'],\n",
       " 'genre': ['Dramat', 'Gangsterski'],\n",
       " 'country': ['USA', 'Włochy'],\n",
       " 'universe': None,\n",
       " 'boxoffice (USD)': 5473337,\n",
       " 'budget (USD)': 30000000,\n",
       " 'original title': 'Once Upon a Time in America',\n",
       " 'distribution': None}"
      ]
     },
     "execution_count": 101,
     "metadata": {},
     "output_type": "execute_result"
    }
   ],
   "source": [
    "movies_data_list[44]"
   ]
  },
  {
   "cell_type": "code",
   "execution_count": 102,
   "id": "b3e4c507-496e-4f47-9106-387591bb05ea",
   "metadata": {},
   "outputs": [],
   "source": [
    "def escape_nested_list(list_of_elements):\n",
    "    for element in list_of_elements:\n",
    "        if not isinstance(element, list):\n",
    "            temporary_list.append(element)\n",
    "        else:\n",
    "            escape_nested_list(element)\n",
    "            \n",
    "for movie in movies_data_list:\n",
    "    \n",
    "    temporary_list = []\n",
    "    \n",
    "    # genres translation\n",
    "    list_of_genres = movie['genre']\n",
    "    \n",
    "    for i in range(len(movie['genre'])):\n",
    "        if list_of_genres[i] in all_genres_dic:\n",
    "            list_of_genres[i] = all_genres_dic[list_of_genres[i]]\n",
    "            \n",
    "    escape_nested_list(movie['genre'])\n",
    "    movie['genre'] = temporary_list\n",
    "    \n",
    "    # cauntries translation\n",
    "    list_of_countries = movie['country']\n",
    "    \n",
    "    for i in range(len(movie['country'])):\n",
    "        if list_of_countries[i] in all_countries_dic:\n",
    "            list_of_countries[i] = all_countries_dic[list_of_countries[i]]\n"
   ]
  },
  {
   "cell_type": "code",
   "execution_count": 5,
   "id": "b3108552-039d-41b0-bc7a-99f136a01cd2",
   "metadata": {},
   "outputs": [
    {
     "data": {
      "text/plain": [
       "{'studio': ['Embassy International Pictures',\n",
       "  'Ladd Company, The',\n",
       "  'PSO International'],\n",
       " 'polish title': 'Dawno temu w Ameryce',\n",
       " 'release year': 1984,\n",
       " 'duration (mi)': 229,\n",
       " 'director': ['Sergio Leone'],\n",
       " 'screenplay': ['Leonardo Benvenuti', 'Franco Arcalli'],\n",
       " 'genre': ['Drama', 'Crime'],\n",
       " 'country': ['USA', 'Italy'],\n",
       " 'universe': None,\n",
       " 'boxoffice (USD)': 5473337,\n",
       " 'budget (USD)': 30000000,\n",
       " 'original title': 'Once Upon a Time in America',\n",
       " 'distribution': None}"
      ]
     },
     "execution_count": 5,
     "metadata": {},
     "output_type": "execute_result"
    }
   ],
   "source": [
    "movies_data_list[44]"
   ]
  },
  {
   "cell_type": "code",
   "execution_count": 104,
   "id": "af8c3dac-bb1c-4477-b152-15858260df27",
   "metadata": {},
   "outputs": [],
   "source": [
    "save_data(\"movies_data_cleaned.json\", movies_data_list)"
   ]
  },
  {
   "cell_type": "code",
   "execution_count": 3,
   "id": "3a392909-5c98-4fc6-ac32-ca950c3a5207",
   "metadata": {},
   "outputs": [],
   "source": [
    "movies_data_list = load_data(\"movies_data_cleaned.json\")"
   ]
  },
  {
   "cell_type": "code",
   "execution_count": 7,
   "id": "1b03bccd-8740-49c0-b54d-2506cb0bcdb9",
   "metadata": {},
   "outputs": [],
   "source": [
    "import csv\n",
    "\n",
    "keys = movies_data_list[0].keys()\n",
    "\n",
    "with open('movies_data_cleaned.csv', 'w', encoding=\"utf-8\", newline='') as output_file:\n",
    "    dict_writer = csv.DictWriter(output_file, keys)\n",
    "    dict_writer.writeheader()\n",
    "    dict_writer.writerows(movies_data_list)\n",
    "    \n",
    "# lists (e.g. list of genres) for each row are saved as a string in csv file so be careful!"
   ]
  },
  {
   "cell_type": "markdown",
   "id": "33199b2e-1f01-4e6e-92a4-cbfa2b9d4cbc",
   "metadata": {},
   "source": [
    "## 4. Data analysis"
   ]
  },
  {
   "cell_type": "code",
   "execution_count": 1,
   "id": "15820b9c-b63b-4e8e-b61a-01243594975f",
   "metadata": {
    "tags": []
   },
   "outputs": [
    {
     "data": {
      "text/html": [
       "<div>\n",
       "<style scoped>\n",
       "    .dataframe tbody tr th:only-of-type {\n",
       "        vertical-align: middle;\n",
       "    }\n",
       "\n",
       "    .dataframe tbody tr th {\n",
       "        vertical-align: top;\n",
       "    }\n",
       "\n",
       "    .dataframe thead th {\n",
       "        text-align: right;\n",
       "    }\n",
       "</style>\n",
       "<table border=\"1\" class=\"dataframe\">\n",
       "  <thead>\n",
       "    <tr style=\"text-align: right;\">\n",
       "      <th></th>\n",
       "      <th>studio</th>\n",
       "      <th>polish title</th>\n",
       "      <th>release year</th>\n",
       "      <th>duration (mi)</th>\n",
       "      <th>director</th>\n",
       "      <th>screenplay</th>\n",
       "      <th>genre</th>\n",
       "      <th>country</th>\n",
       "      <th>universe</th>\n",
       "      <th>boxoffice (USD)</th>\n",
       "      <th>budget (USD)</th>\n",
       "      <th>original title</th>\n",
       "      <th>distribution</th>\n",
       "    </tr>\n",
       "  </thead>\n",
       "  <tbody>\n",
       "    <tr>\n",
       "      <th>0</th>\n",
       "      <td>[Castle Rock Entertainment]</td>\n",
       "      <td>Skazani na Shawshank</td>\n",
       "      <td>1994</td>\n",
       "      <td>142</td>\n",
       "      <td>[Frank Darabont]</td>\n",
       "      <td>[Frank Darabont]</td>\n",
       "      <td>[Drama]</td>\n",
       "      <td>[USA]</td>\n",
       "      <td>[Stephen King]</td>\n",
       "      <td>28884504.0</td>\n",
       "      <td>25000000.0</td>\n",
       "      <td>The Shawshank Redemption</td>\n",
       "      <td>None</td>\n",
       "    </tr>\n",
       "    <tr>\n",
       "      <th>1</th>\n",
       "      <td>[Canal+ France, Chaocorp, CinéCinéma]</td>\n",
       "      <td>Nietykalni</td>\n",
       "      <td>2011</td>\n",
       "      <td>112</td>\n",
       "      <td>[Olivier Nakache, Éric Toledano]</td>\n",
       "      <td>[Olivier Nakache, Éric Toledano]</td>\n",
       "      <td>[Biography, Drama, Comedy]</td>\n",
       "      <td>[France]</td>\n",
       "      <td>None</td>\n",
       "      <td>426588510.0</td>\n",
       "      <td>10800000.0</td>\n",
       "      <td>Intouchables</td>\n",
       "      <td>Gutek Film</td>\n",
       "    </tr>\n",
       "  </tbody>\n",
       "</table>\n",
       "</div>"
      ],
      "text/plain": [
       "                                  studio          polish title  release year  \\\n",
       "0            [Castle Rock Entertainment]  Skazani na Shawshank          1994   \n",
       "1  [Canal+ France, Chaocorp, CinéCinéma]            Nietykalni          2011   \n",
       "\n",
       "   duration (mi)                          director  \\\n",
       "0            142                  [Frank Darabont]   \n",
       "1            112  [Olivier Nakache, Éric Toledano]   \n",
       "\n",
       "                         screenplay                       genre   country  \\\n",
       "0                  [Frank Darabont]                     [Drama]     [USA]   \n",
       "1  [Olivier Nakache, Éric Toledano]  [Biography, Drama, Comedy]  [France]   \n",
       "\n",
       "         universe  boxoffice (USD)  budget (USD)            original title  \\\n",
       "0  [Stephen King]       28884504.0    25000000.0  The Shawshank Redemption   \n",
       "1            None      426588510.0    10800000.0              Intouchables   \n",
       "\n",
       "  distribution  \n",
       "0         None  \n",
       "1   Gutek Film  "
      ]
     },
     "execution_count": 1,
     "metadata": {},
     "output_type": "execute_result"
    }
   ],
   "source": [
    "import pandas as pd\n",
    "import numpy as np\n",
    "import matplotlib.pyplot as plt\n",
    "import matplotlib.mlab as mlab\n",
    "import scipy.stats as stats\n",
    "from collections import Counter\n",
    "\n",
    "\n",
    "df = pd.read_json('movies_data_cleaned.json')\n",
    "\n",
    "df.head(2)"
   ]
  },
  {
   "cell_type": "code",
   "execution_count": 102,
   "id": "4e101d76-1c38-40b2-8a4e-fbfe261ffda0",
   "metadata": {},
   "outputs": [
    {
     "name": "stdout",
     "output_type": "stream",
     "text": [
      "\n",
      "Movies with the highest budget:\n",
      "\n"
     ]
    },
    {
     "data": {
      "text/html": [
       "<style type=\"text/css\">\n",
       "</style>\n",
       "<table id=\"T_35a0c\">\n",
       "  <thead>\n",
       "    <tr>\n",
       "      <th class=\"blank level0\" >&nbsp;</th>\n",
       "      <th id=\"T_35a0c_level0_col0\" class=\"col_heading level0 col0\" >index</th>\n",
       "      <th id=\"T_35a0c_level0_col1\" class=\"col_heading level0 col1\" >original title</th>\n",
       "      <th id=\"T_35a0c_level0_col2\" class=\"col_heading level0 col2\" >budget (USD)</th>\n",
       "    </tr>\n",
       "  </thead>\n",
       "  <tbody>\n",
       "    <tr>\n",
       "      <th id=\"T_35a0c_level0_row0\" class=\"row_heading level0 row0\" >0</th>\n",
       "      <td id=\"T_35a0c_row0_col0\" class=\"data row0 col0\" >63</td>\n",
       "      <td id=\"T_35a0c_row0_col1\" class=\"data row0 col1\" >Avengers: Endgame</td>\n",
       "      <td id=\"T_35a0c_row0_col2\" class=\"data row0 col2\" >356,000,000</td>\n",
       "    </tr>\n",
       "    <tr>\n",
       "      <th id=\"T_35a0c_level0_row1\" class=\"row_heading level0 row1\" >1</th>\n",
       "      <td id=\"T_35a0c_row1_col0\" class=\"data row1 col0\" >178</td>\n",
       "      <td id=\"T_35a0c_row1_col1\" class=\"data row1 col1\" >Pirates of the Caribbean: At World's End</td>\n",
       "      <td id=\"T_35a0c_row1_col2\" class=\"data row1 col2\" >300,000,000</td>\n",
       "    </tr>\n",
       "    <tr>\n",
       "      <th id=\"T_35a0c_level0_row2\" class=\"row_heading level0 row2\" >2</th>\n",
       "      <td id=\"T_35a0c_row2_col0\" class=\"data row2 col0\" >271</td>\n",
       "      <td id=\"T_35a0c_row2_col1\" class=\"data row2 col1\" >Tangled</td>\n",
       "      <td id=\"T_35a0c_row2_col2\" class=\"data row2 col2\" >260,000,000</td>\n",
       "    </tr>\n",
       "    <tr>\n",
       "      <th id=\"T_35a0c_level0_row3\" class=\"row_heading level0 row3\" >3</th>\n",
       "      <td id=\"T_35a0c_row3_col0\" class=\"data row3 col0\" >491</td>\n",
       "      <td id=\"T_35a0c_row3_col1\" class=\"data row3 col1\" >Captain America: Civil War</td>\n",
       "      <td id=\"T_35a0c_row3_col2\" class=\"data row3 col2\" >250,000,000</td>\n",
       "    </tr>\n",
       "    <tr>\n",
       "      <th id=\"T_35a0c_level0_row4\" class=\"row_heading level0 row4\" >4</th>\n",
       "      <td id=\"T_35a0c_row4_col0\" class=\"data row4 col0\" >170</td>\n",
       "      <td id=\"T_35a0c_row4_col1\" class=\"data row4 col1\" >The Dark Knight Rises</td>\n",
       "      <td id=\"T_35a0c_row4_col2\" class=\"data row4 col2\" >250,000,000</td>\n",
       "    </tr>\n",
       "    <tr>\n",
       "      <th id=\"T_35a0c_level0_row5\" class=\"row_heading level0 row5\" >5</th>\n",
       "      <td id=\"T_35a0c_row5_col0\" class=\"data row5 col0\" >383</td>\n",
       "      <td id=\"T_35a0c_row5_col1\" class=\"data row5 col1\" >Harry Potter and the Half-Blood Prince</td>\n",
       "      <td id=\"T_35a0c_row5_col2\" class=\"data row5 col2\" >250,000,000</td>\n",
       "    </tr>\n",
       "  </tbody>\n",
       "</table>\n"
      ],
      "text/plain": [
       "<pandas.io.formats.style.Styler at 0x1803d9f4e90>"
      ]
     },
     "execution_count": 102,
     "metadata": {},
     "output_type": "execute_result"
    }
   ],
   "source": [
    "print('\\nMovies with the highest budget:\\n')\n",
    "\n",
    "sorted_movies = df[['original title','budget (USD)']].sort_values(by=['budget (USD)'], ascending=False).reset_index()\n",
    "\n",
    "sorted_movies.head(6).style.format({'budget (USD)': '{:,.0f}'})"
   ]
  },
  {
   "cell_type": "code",
   "execution_count": 101,
   "id": "f99ae332-ca81-49fa-9820-7de229b51164",
   "metadata": {},
   "outputs": [
    {
     "name": "stdout",
     "output_type": "stream",
     "text": [
      "\n",
      "Movies with the highest boxoffice to budget ratio:\n",
      "\n"
     ]
    },
    {
     "data": {
      "text/html": [
       "<div>\n",
       "<style scoped>\n",
       "    .dataframe tbody tr th:only-of-type {\n",
       "        vertical-align: middle;\n",
       "    }\n",
       "\n",
       "    .dataframe tbody tr th {\n",
       "        vertical-align: top;\n",
       "    }\n",
       "\n",
       "    .dataframe thead th {\n",
       "        text-align: right;\n",
       "    }\n",
       "</style>\n",
       "<table border=\"1\" class=\"dataframe\">\n",
       "  <thead>\n",
       "    <tr style=\"text-align: right;\">\n",
       "      <th></th>\n",
       "      <th>index</th>\n",
       "      <th>polish title</th>\n",
       "      <th>original title</th>\n",
       "      <th>b/b ratio</th>\n",
       "    </tr>\n",
       "  </thead>\n",
       "  <tbody>\n",
       "    <tr>\n",
       "      <th>0</th>\n",
       "      <td>177</td>\n",
       "      <td>Rocky</td>\n",
       "      <td>Rocky</td>\n",
       "      <td>122</td>\n",
       "    </tr>\n",
       "    <tr>\n",
       "      <th>1</th>\n",
       "      <td>415</td>\n",
       "      <td>Wejście smoka</td>\n",
       "      <td>Enter the Dragon</td>\n",
       "      <td>106</td>\n",
       "    </tr>\n",
       "    <tr>\n",
       "      <th>2</th>\n",
       "      <td>124</td>\n",
       "      <td>Przeminęło z wiatrem</td>\n",
       "      <td>Gone with the Wind</td>\n",
       "      <td>101</td>\n",
       "    </tr>\n",
       "    <tr>\n",
       "      <th>3</th>\n",
       "      <td>389</td>\n",
       "      <td>Za garść dolarów</td>\n",
       "      <td>Per un pugno di dollari</td>\n",
       "      <td>73</td>\n",
       "    </tr>\n",
       "    <tr>\n",
       "      <th>4</th>\n",
       "      <td>74</td>\n",
       "      <td>Gwiezdne wojny: Część IV - Nowa nadzieja</td>\n",
       "      <td>Star Wars</td>\n",
       "      <td>70</td>\n",
       "    </tr>\n",
       "  </tbody>\n",
       "</table>\n",
       "</div>"
      ],
      "text/plain": [
       "   index                              polish title           original title  \\\n",
       "0    177                                     Rocky                    Rocky   \n",
       "1    415                             Wejście smoka         Enter the Dragon   \n",
       "2    124                      Przeminęło z wiatrem       Gone with the Wind   \n",
       "3    389                          Za garść dolarów  Per un pugno di dollari   \n",
       "4     74  Gwiezdne wojny: Część IV - Nowa nadzieja                Star Wars   \n",
       "\n",
       "   b/b ratio  \n",
       "0        122  \n",
       "1        106  \n",
       "2        101  \n",
       "3         73  \n",
       "4         70  "
      ]
     },
     "execution_count": 101,
     "metadata": {},
     "output_type": "execute_result"
    }
   ],
   "source": [
    "print('\\nMovies with the highest boxoffice to budget ratio:\\n')\n",
    "\n",
    "kwargs = {'b/b ratio' : df['boxoffice (USD)'] / df['budget (USD)']}\n",
    "df2 = df.assign(**kwargs).round({'b/b ratio' : 0})\n",
    "df2['b/b ratio'] = df2['b/b ratio'].fillna(0).astype(int)\n",
    "\n",
    "df2[['polish title', 'original title', 'b/b ratio']].sort_values(by=['b/b ratio'], ascending=False).reset_index().head(5)"
   ]
  },
  {
   "cell_type": "code",
   "execution_count": 12,
   "id": "bac57f4e-0c9c-4ebb-a244-da2e84a48cbc",
   "metadata": {
    "tags": []
   },
   "outputs": [
    {
     "data": {
      "image/png": "[encoded data removed]",
      "text/plain": [
       "<Figure size 800x500 with 1 Axes>"
      ]
     },
     "metadata": {},
     "output_type": "display_data"
    }
   ],
   "source": [
    "# plt.style.use('default')\n",
    "\n",
    "list_of_all_genres = []\n",
    "\n",
    "for genre in df['genre']:\n",
    "    list_of_all_genres += genre\n",
    "\n",
    "counted_genres = Counter(list_of_all_genres)\n",
    "\n",
    "most_common_genres = dict(sorted(counted_genres.items(), key = lambda i: i[1], reverse = True)[:10])\n",
    "\n",
    "plt.rcParams['figure.figsize'] = (8, 5)\n",
    "plt.rcParams['font.family'] = 'MS Reference Sans Serif'\n",
    "\n",
    "fig, ax = plt.subplots()\n",
    "\n",
    "ax.bar(most_common_genres.keys(), most_common_genres.values(), color='cornflowerblue')\n",
    "\n",
    "ax.set_ylim([0, 300])\n",
    "\n",
    "ax.spines.top.set_visible(False)\n",
    "ax.spines.left.set_visible(False)\n",
    "ax.spines.right.set_visible(False)\n",
    "ax.spines.bottom.set_color('lavender')\n",
    "\n",
    "ax.tick_params(bottom=False, left=False)\n",
    "ax.tick_params(axis='x', labelrotation=40)\n",
    "\n",
    "ax.set_axisbelow(True)\n",
    "ax.yaxis.grid(True, color='lavender')\n",
    "\n",
    "ax.set_xlabel('Movie genre', labelpad=15, fontsize=11)\n",
    "ax.set_ylabel('Number of occurrences', labelpad=15, fontsize=11)\n",
    "ax.set_title('The most common genres in Filmweb\\'s top 500 movies', pad=20, weight='bold', fontsize=12.5)\n",
    "\n",
    "fig.tight_layout()"
   ]
  },
  {
   "cell_type": "code",
   "execution_count": 13,
   "id": "ad78ad13-7f68-4d66-918c-a94de0fcbb12",
   "metadata": {},
   "outputs": [
    {
     "data": {
      "image/png": "[encoded data removed]",
      "text/plain": [
       "<Figure size 800x500 with 1 Axes>"
      ]
     },
     "metadata": {},
     "output_type": "display_data"
    }
   ],
   "source": [
    "plt.rcParams['figure.figsize'] = (8, 5)\n",
    "plt.rcParams['font.family'] = 'MS Reference Sans Serif'\n",
    "\n",
    "fig, ax = plt.subplots()\n",
    "\n",
    "bins = np.arange(1938, 2024, 5)\n",
    "counts, bins, patches = ax.hist(df['release year'], bins=bins, \n",
    "               color='cornflowerblue', edgecolor='lavender', linewidth=0.15)\n",
    "\n",
    "ax.spines.top.set_visible(False)\n",
    "ax.spines.left.set_visible(False)\n",
    "ax.spines.right.set_visible(False)\n",
    "ax.spines.bottom.set_color('lavender')\n",
    "\n",
    "ax.tick_params(left=False, color='lavender')\n",
    "ax.tick_params(axis='x', labelrotation=90)\n",
    "ax.set_xticks(bins)\n",
    "\n",
    "ax.set_axisbelow(True)\n",
    "ax.yaxis.grid(True, color='lavender')\n",
    "\n",
    "# check if it stays or not\n",
    "for count, patch in zip(counts, patches):\n",
    "    percent = '%0.1f%%' % (100 * float(count) / counts.sum())\n",
    "    height = patch.get_height()\n",
    "    ax.text(patch.get_x() + patch.get_width() / 2, height+1, percent, ha='center', va='bottom', fontsize=8.5)\n",
    "    \n",
    "\n",
    "ax.set_xlabel('Year', labelpad=15, fontsize=10)\n",
    "ax.set_ylabel('Number of movies', labelpad=15, fontsize=10)\n",
    "ax.set_title('Distribution of movies in Filmweb\\'s top 500', pad=20, weight='bold', fontsize=12.5)\n",
    "\n",
    "fig.tight_layout()"
   ]
  },
  {
   "cell_type": "code",
   "execution_count": 3,
   "id": "89bf54ad-7cb9-42ce-be48-d85f02da0701",
   "metadata": {
    "collapsed": true,
    "jupyter": {
     "outputs_hidden": true
    },
    "tags": []
   },
   "outputs": [
    {
     "data": {
      "text/html": [
       "<style type=\"text/css\">\n",
       "</style>\n",
       "<table id=\"T_1c202\">\n",
       "  <thead>\n",
       "    <tr>\n",
       "      <th class=\"blank level0\" >&nbsp;</th>\n",
       "      <th id=\"T_1c202_level0_col0\" class=\"col_heading level0 col0\" >duration (mi)</th>\n",
       "      <th id=\"T_1c202_level0_col1\" class=\"col_heading level0 col1\" >7_years_rolling_avg</th>\n",
       "    </tr>\n",
       "    <tr>\n",
       "      <th class=\"index_name level0\" >release year</th>\n",
       "      <th class=\"blank col0\" >&nbsp;</th>\n",
       "      <th class=\"blank col1\" >&nbsp;</th>\n",
       "    </tr>\n",
       "  </thead>\n",
       "  <tbody>\n",
       "    <tr>\n",
       "      <th id=\"T_1c202_level0_row0\" class=\"row_heading level0 row0\" >1927</th>\n",
       "      <td id=\"T_1c202_row0_col0\" class=\"data row0 col0\" >153.000000</td>\n",
       "      <td id=\"T_1c202_row0_col1\" class=\"data row0 col1\" >nan</td>\n",
       "    </tr>\n",
       "    <tr>\n",
       "      <th id=\"T_1c202_level0_row1\" class=\"row_heading level0 row1\" >1939</th>\n",
       "      <td id=\"T_1c202_row1_col0\" class=\"data row1 col0\" >226.000000</td>\n",
       "      <td id=\"T_1c202_row1_col1\" class=\"data row1 col1\" >nan</td>\n",
       "    </tr>\n",
       "    <tr>\n",
       "      <th id=\"T_1c202_level0_row2\" class=\"row_heading level0 row2\" >1940</th>\n",
       "      <td id=\"T_1c202_row2_col0\" class=\"data row2 col0\" >124.000000</td>\n",
       "      <td id=\"T_1c202_row2_col1\" class=\"data row2 col1\" >nan</td>\n",
       "    </tr>\n",
       "    <tr>\n",
       "      <th id=\"T_1c202_level0_row3\" class=\"row_heading level0 row3\" >1941</th>\n",
       "      <td id=\"T_1c202_row3_col0\" class=\"data row3 col0\" >119.000000</td>\n",
       "      <td id=\"T_1c202_row3_col1\" class=\"data row3 col1\" >nan</td>\n",
       "    </tr>\n",
       "    <tr>\n",
       "      <th id=\"T_1c202_level0_row4\" class=\"row_heading level0 row4\" >1942</th>\n",
       "      <td id=\"T_1c202_row4_col0\" class=\"data row4 col0\" >102.000000</td>\n",
       "      <td id=\"T_1c202_row4_col1\" class=\"data row4 col1\" >nan</td>\n",
       "    </tr>\n",
       "    <tr>\n",
       "      <th id=\"T_1c202_level0_row5\" class=\"row_heading level0 row5\" >1946</th>\n",
       "      <td id=\"T_1c202_row5_col0\" class=\"data row5 col0\" >130.000000</td>\n",
       "      <td id=\"T_1c202_row5_col1\" class=\"data row5 col1\" >nan</td>\n",
       "    </tr>\n",
       "    <tr>\n",
       "      <th id=\"T_1c202_level0_row6\" class=\"row_heading level0 row6\" >1950</th>\n",
       "      <td id=\"T_1c202_row6_col0\" class=\"data row6 col0\" >110.000000</td>\n",
       "      <td id=\"T_1c202_row6_col1\" class=\"data row6 col1\" >137.714286</td>\n",
       "    </tr>\n",
       "    <tr>\n",
       "      <th id=\"T_1c202_level0_row7\" class=\"row_heading level0 row7\" >1952</th>\n",
       "      <td id=\"T_1c202_row7_col0\" class=\"data row7 col0\" >103.000000</td>\n",
       "      <td id=\"T_1c202_row7_col1\" class=\"data row7 col1\" >130.571429</td>\n",
       "    </tr>\n",
       "    <tr>\n",
       "      <th id=\"T_1c202_level0_row8\" class=\"row_heading level0 row8\" >1953</th>\n",
       "      <td id=\"T_1c202_row8_col0\" class=\"data row8 col0\" >118.000000</td>\n",
       "      <td id=\"T_1c202_row8_col1\" class=\"data row8 col1\" >115.142857</td>\n",
       "    </tr>\n",
       "    <tr>\n",
       "      <th id=\"T_1c202_level0_row9\" class=\"row_heading level0 row9\" >1954</th>\n",
       "      <td id=\"T_1c202_row9_col0\" class=\"data row9 col0\" >157.500000</td>\n",
       "      <td id=\"T_1c202_row9_col1\" class=\"data row9 col1\" >119.928571</td>\n",
       "    </tr>\n",
       "  </tbody>\n",
       "</table>\n"
      ],
      "text/plain": [
       "<pandas.io.formats.style.Styler at 0x1343dec7e50>"
      ]
     },
     "execution_count": 3,
     "metadata": {},
     "output_type": "execute_result"
    }
   ],
   "source": [
    "df_grouped_by_year = df.groupby(\"release year\").agg({\"duration (mi)\" : np.mean})\n",
    "df_grouped_by_year['7_years_rolling_avg'] = df_grouped_by_year['duration (mi)'].rolling(7).mean()\n",
    "df_grouped_by_year.head(10).style.format({'budget (USD)': '{:,.0f}'})"
   ]
  },
  {
   "cell_type": "code",
   "execution_count": 14,
   "id": "c1e2ea55-464a-410e-b980-536a8e483d78",
   "metadata": {},
   "outputs": [
    {
     "data": {
      "image/png": "[encoded data removed]",
      "text/plain": [
       "<Figure size 800x500 with 1 Axes>"
      ]
     },
     "metadata": {},
     "output_type": "display_data"
    }
   ],
   "source": [
    "plt.rcParams['figure.figsize'] = (8, 5)\n",
    "plt.rcParams['font.family'] = 'MS Reference Sans Serif'\n",
    "\n",
    "fig, ax = plt.subplots()\n",
    "\n",
    "df_grouped_by_year['duration (mi)'].plot(ax=ax, label='average')\n",
    "df_grouped_by_year['7_years_rolling_avg'].plot(ax=ax, label='7-Year MA')\n",
    "\n",
    "ax.spines.top.set_visible(False)\n",
    "ax.spines.left.set_visible(False)\n",
    "ax.spines.right.set_visible(False)\n",
    "ax.spines.bottom.set_color('lavender')\n",
    "\n",
    "ax.tick_params(left=False, color='lavender')\n",
    "\n",
    "ax.set_axisbelow(True)\n",
    "ax.yaxis.grid(True, color='lavender')    \n",
    "\n",
    "ax.set_xlabel('Year', labelpad=15, fontsize=10)\n",
    "ax.set_ylabel('Duration (mi)', labelpad=15, fontsize=10)\n",
    "ax.set_title('Average duration of movies in Filmweb\\'s top 500', pad=20, weight='bold', fontsize=12.5)\n",
    "\n",
    "ax.legend()\n",
    "\n",
    "fig.tight_layout()"
   ]
  },
  {
   "cell_type": "markdown",
   "id": "3a4ac1b1-70cf-4d70-9d37-627ac4164e7f",
   "metadata": {},
   "source": [
    "#### Conclusions: \n",
    "#### There is no correlation between duration and release year of the movies in TOP 500 filmweb's movies.\n",
    "#### People prefer to watch movies that are more or less 2 hours long."
   ]
  },
  {
   "cell_type": "code",
   "execution_count": 5,
   "id": "c23598b9-2fa2-44f9-bd58-f11676ef3fb4",
   "metadata": {
    "collapsed": true,
    "jupyter": {
     "outputs_hidden": true
    },
    "tags": []
   },
   "outputs": [
    {
     "data": {
      "text/plain": [
       "{'USA': 364,\n",
       " 'Great Britain': 101,\n",
       " 'Germany': 56,\n",
       " 'France': 56,\n",
       " 'Poland': 52,\n",
       " 'Italy': 20}"
      ]
     },
     "execution_count": 5,
     "metadata": {},
     "output_type": "execute_result"
    }
   ],
   "source": [
    "df_exploded = df.explode('country')\n",
    "common_countries_dict = df_exploded.groupby(\"country\").size().sort_values(ascending=False).head(6).to_dict()\n",
    "\n",
    "common_countries_dict"
   ]
  },
  {
   "cell_type": "code",
   "execution_count": 15,
   "id": "50df9eb8-53b0-4d98-bc4a-180328e709cc",
   "metadata": {},
   "outputs": [
    {
     "data": {
      "image/png": "[encoded data removed]",
      "text/plain": [
       "<Figure size 800x500 with 1 Axes>"
      ]
     },
     "metadata": {},
     "output_type": "display_data"
    }
   ],
   "source": [
    "plt.rcParams['figure.figsize'] = (8, 5)\n",
    "plt.rcParams['font.family'] = 'MS Reference Sans Serif'\n",
    "\n",
    "fig, ax = plt.subplots()\n",
    "\n",
    "density = stats.gaussian_kde(df['release year'])\n",
    "\n",
    "bins = np.arange(1935, 2026, 5)\n",
    "\n",
    "for country in common_countries_dict.keys():\n",
    "    subset = df_exploded[df_exploded['country'] == country]\n",
    "    density = stats.gaussian_kde(subset['release year'])\n",
    "    plt.plot(np.arange(1935, 2024, 1), density(np.arange(1935, 2024, 1)), label=country)\n",
    "    \n",
    "ax.spines.top.set_visible(False)\n",
    "ax.spines.left.set_visible(False)\n",
    "ax.spines.right.set_visible(False)\n",
    "ax.spines.bottom.set_color('lavender')\n",
    "\n",
    "ax.tick_params(left=False, color='lavender')\n",
    "ax.tick_params(axis='x', labelrotation=90)\n",
    "ax.set_xticks(bins)\n",
    "\n",
    "ax.set_axisbelow(True)\n",
    "ax.yaxis.grid(True, color='lavender')\n",
    "    \n",
    "ax.set_xlabel('Year', labelpad=15, fontsize=10)\n",
    "ax.set_ylabel('Density', labelpad=15, fontsize=10)\n",
    "ax.set_title('Release year distribution of Filmweb\\'s top 500 movies', pad=20, weight='bold', fontsize=12.5)\n",
    "\n",
    "plt.legend()\n",
    "\n",
    "fig.tight_layout()"
   ]
  }
 ],
 "metadata": {
  "kernelspec": {
   "display_name": "TmdsVenvKernel",
   "language": "python",
   "name": "tmdsvenvkernel"
  },
  "language_info": {
   "codemirror_mode": {
    "name": "ipython",
    "version": 3
   },
   "file_extension": ".py",
   "mimetype": "text/x-python",
   "name": "python",
   "nbconvert_exporter": "python",
   "pygments_lexer": "ipython3",
   "version": "3.11.0"
  }
 },
 "nbformat": 4,
 "nbformat_minor": 5
}
